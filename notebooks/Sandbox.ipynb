{
 "cells": [
  {
   "cell_type": "code",
   "execution_count": null,
   "id": "f4421076",
   "metadata": {},
   "outputs": [],
   "source": [
    "import env"
   ]
  },
  {
   "cell_type": "code",
   "execution_count": null,
   "id": "fd0fe9df",
   "metadata": {},
   "outputs": [],
   "source": [
    "from sqlalchemy import create_engine\n",
    "from sqlalchemy import text\n",
    "\n",
    "from src import db, models\n",
    "\n",
    "engine = create_engine(\"sqlite:///db/database.db\", echo=True)\n",
    "\n",
    "db.init_db()\n",
    "\n",
    "with engine.connect() as conn:\n",
    "    result = conn.execute(text(\"select count(*) from shop\"))\n",
    "    print(result.fetchall()[0][0])"
   ]
  },
  {
   "cell_type": "code",
   "execution_count": null,
   "id": "72d6d318",
   "metadata": {},
   "outputs": [],
   "source": [
    "with engine.connect() as conn:\n",
    "    res = conn.execute(text(\"select * from shop\"))\n",
    "    print(res.fetchall())\n",
    "\n",
    "    res = conn.execute(text(\"select * from customer\"))\n",
    "    print(res.fetchall())\n",
    "\n",
    "    res = conn.execute(text(\"select * from menu_item\"))\n",
    "    print(res.fetchall())"
   ]
  },
  {
   "cell_type": "code",
   "execution_count": null,
   "id": "e4264b8b",
   "metadata": {},
   "outputs": [],
   "source": [
    "from sqlalchemy import select\n",
    "\n",
    "shop_id = 1\n",
    "\n",
    "stmt = select(models.Shop).where(models.Shop.id == shop_id)\n",
    "print(stmt)"
   ]
  },
  {
   "cell_type": "code",
   "execution_count": null,
   "id": "3c37c442",
   "metadata": {},
   "outputs": [],
   "source": [
    "menu_item_id = 1\n",
    "\n",
    "stmt = select(models.MenuItem).where(models.MenuItem.id == menu_item_id)\n",
    "print(stmt)"
   ]
  },
  {
   "cell_type": "code",
   "execution_count": null,
   "id": "566791e0",
   "metadata": {},
   "outputs": [],
   "source": [
    "from src import db\n",
    "engine = db.get_engine()\n",
    "menu_item_id = 1\n",
    "with engine.connect() as conn:\n",
    "    menu_item = conn.execute(select(models.MenuItem).where(models.MenuItem.id == menu_item_id)).first()\n",
    "    print(menu_item)\n",
    "    shop = conn.execute(select(models.Shop).where(models.Shop.id == menu_item.shop_id)).first()\n",
    "    print(shop.name)"
   ]
  },
  {
   "cell_type": "code",
   "execution_count": null,
   "id": "de3c5801",
   "metadata": {},
   "outputs": [],
   "source": [
    "from sqlalchemy.orm import Session\n",
    "\n",
    "with Session(engine) as session:\n",
    "    item = db.get_by_id(session, models.MenuItem, 1)\n",
    "    print(item)"
   ]
  },
  {
   "cell_type": "code",
   "execution_count": null,
   "id": "73cd37ea",
   "metadata": {},
   "outputs": [],
   "source": [
    "db.purchase_item(1, 1)\n",
    "db.purchase_item(1, 2)\n",
    "db.purchase_item(2, 1)\n",
    "db.purchase_item(2, 2)"
   ]
  }
 ],
 "metadata": {
  "kernelspec": {
   "display_name": "taco-stand-U-Q8JIMj",
   "language": "python",
   "name": "python3"
  },
  "language_info": {
   "codemirror_mode": {
    "name": "ipython",
    "version": 3
   },
   "file_extension": ".py",
   "mimetype": "text/x-python",
   "name": "python",
   "nbconvert_exporter": "python",
   "pygments_lexer": "ipython3",
   "version": "3.13.2"
  }
 },
 "nbformat": 4,
 "nbformat_minor": 5
}
