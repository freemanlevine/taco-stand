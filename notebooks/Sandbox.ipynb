{
 "cells": [
  {
   "cell_type": "code",
   "execution_count": null,
   "id": "0773bdc6-60cc-4889-8ca8-8e16f70418d6",
   "metadata": {},
   "outputs": [],
   "source": [
    "import env\n",
    "import requests\n",
    "import sqlalchemy"
   ]
  },
  {
   "cell_type": "code",
   "execution_count": null,
   "id": "fd0fe9df",
   "metadata": {},
   "outputs": [],
   "source": [
    "from sqlalchemy import create_engine\n",
    "from sqlalchemy import text\n",
    "from sqlalchemy.orm import Session\n",
    "\n",
    "from src import models, services\n",
    "\n",
    "engine = create_engine(\"sqlite:///db/database.db\", echo=True)\n",
    "\n",
    "services.init_db()\n",
    "\n",
    "with engine.connect() as conn:\n",
    "    result = conn.execute(text(\"select count(*) from shop\"))\n",
    "    print(result.fetchall()[0][0])"
   ]
  },
  {
   "cell_type": "code",
   "execution_count": null,
   "id": "72d6d318",
   "metadata": {},
   "outputs": [],
   "source": [
    "with engine.connect() as conn:\n",
    "    res = conn.execute(text(\"select * from shop\"))\n",
    "    print(res.fetchall())\n",
    "\n",
    "    res = conn.execute(text(\"select * from customer\"))\n",
    "    print(res.fetchall())\n",
    "\n",
    "    res = conn.execute(text(\"select * from menu_item\"))\n",
    "    print(res.fetchall())"
   ]
  }
 ],
 "metadata": {
  "kernelspec": {
   "display_name": "taco-stand-U-Q8JIMj",
   "language": "python",
   "name": "python3"
  },
  "language_info": {
   "codemirror_mode": {
    "name": "ipython",
    "version": 3
   },
   "file_extension": ".py",
   "mimetype": "text/x-python",
   "name": "python",
   "nbconvert_exporter": "python",
   "pygments_lexer": "ipython3",
   "version": "3.13.2"
  }
 },
 "nbformat": 4,
 "nbformat_minor": 5
}
