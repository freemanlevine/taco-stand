{
 "cells": [
  {
   "cell_type": "code",
   "execution_count": 1,
   "id": "0773bdc6-60cc-4889-8ca8-8e16f70418d6",
   "metadata": {},
   "outputs": [],
   "source": [
    "import env\n",
    "import requests\n",
    "import sqlalchemy"
   ]
  },
  {
   "cell_type": "code",
   "execution_count": 2,
   "id": "815928e1",
   "metadata": {},
   "outputs": [
    {
     "data": {
      "text/plain": [
       "\"Danny's Tacos\""
      ]
     },
     "execution_count": 2,
     "metadata": {},
     "output_type": "execute_result"
    }
   ],
   "source": [
    "from src import models\n",
    "\n",
    "first_taco_stand = models.Shop(\"Danny's Tacos\")\n",
    "first_taco_stand.name\n"
   ]
  }
 ],
 "metadata": {
  "kernelspec": {
   "display_name": "taco-stand-U-Q8JIMj",
   "language": "python",
   "name": "python3"
  },
  "language_info": {
   "codemirror_mode": {
    "name": "ipython",
    "version": 3
   },
   "file_extension": ".py",
   "mimetype": "text/x-python",
   "name": "python",
   "nbconvert_exporter": "python",
   "pygments_lexer": "ipython3",
   "version": "3.13.2"
  }
 },
 "nbformat": 4,
 "nbformat_minor": 5
}
